{
 "cells": [
  {
   "cell_type": "markdown",
   "metadata": {},
   "source": [
    "# Short-Term Financing Optimization"
   ]
  },
  {
   "cell_type": "code",
   "execution_count": 1,
   "metadata": {},
   "outputs": [],
   "source": [
    "import numpy as np\n",
    "import gurobipy as gp"
   ]
  },
  {
   "cell_type": "markdown",
   "metadata": {},
   "source": [
    "### Initialize Constraint Matrix, Objective Vector, and Constraint Vector"
   ]
  },
  {
   "cell_type": "code",
   "execution_count": 2,
   "metadata": {},
   "outputs": [],
   "source": [
    "obj = np.zeros(14)\n",
    "obj[13] = 1\n",
    "\n",
    "A = np.zeros((6,14))\n",
    "#x1+y1-z1:\n",
    "A[0,[0,5,8]]=[1,1,-1]\n",
    "\n",
    "#x2 +y2 -1.01x1 +1.003z1 - z2:\n",
    "A[1,1]=1;A[1,6]=1;A[1,0]=-1.01;A[1,8]=1.003;A[1,9]=-1\n",
    "\n",
    "#x3 +y3 -1.01x2 +1.003z2 - z3:\n",
    "A[2,2]=1;A[2,7]=1;A[2,1]=-1.01;A[2,9]=1.003;A[2,10]=-1\n",
    "\n",
    "#x4 - 1.02y1 -1.01x3 +1.003z3 - z4:\n",
    "A[3,3]=1;A[3,5]=-1.02;A[3,2]=-1.01;A[3,10]=1.003;A[3,11]=-1\n",
    "\n",
    "#x5 - 1.02y2 -1.01x4 +1.003z4 - z5:\n",
    "A[4,4]=1;A[4,6]=-1.02;A[4,3]=-1.01;A[4,11]=1.003;A[4,12]=-1\n",
    "\n",
    "#   - 1.02y3 -1.01x5 +1.003z5 - z6:\n",
    "A[5,7]=-1.02;A[5,4]=-1.01;A[5,12]=1.003;A[5,13]=-1\n",
    "\n",
    "# xi <= 100\n",
    "ub = np.array([100]*5+[np.Inf]*9)\n",
    "\n",
    "#equality and inequality constraints\n",
    "b=np.array([150,100,-200,200,-50,-300])\n",
    "sense=np.array([\"=\",\"=\",\"=\",\"=\",\"=\",\"=\"])\n"
   ]
  },
  {
   "cell_type": "markdown",
   "metadata": {},
   "source": [
    "### Solve the Model"
   ]
  },
  {
   "cell_type": "code",
   "execution_count": 4,
   "metadata": {},
   "outputs": [
    {
     "name": "stdout",
     "output_type": "stream",
     "text": [
      "Academic license - for non-commercial use only - expires 2022-08-28\n",
      "Using license file C:\\Users\\Brandon\\gurobi.lic\n"
     ]
    }
   ],
   "source": [
    "stfMod = gp.Model()\n",
    "stfMod_x = stfMod.addMVar(len(obj),ub=ub) # tell the model how many variables there are\n",
    "# must define the variables before adding constraints because variables go into the constraints\n",
    "stfMod_con = stfMod.addMConstrs(A, stfMod_x, sense, b) # NAME THE CONSTRAINTS!!! so we can get information about them later!\n",
    "stfMod.setMObjective(None,obj,0,sense=gp.GRB.MAXIMIZE) # add the objective to the model...we'll talk about the None and the 0\n",
    "\n",
    "stfMod.Params.OutputFlag = 0 # tell gurobi to shut up!!\n",
    "stfMod.optimize()"
   ]
  },
  {
   "cell_type": "code",
   "execution_count": null,
   "metadata": {},
   "outputs": [],
   "source": []
  },
  {
   "cell_type": "code",
   "execution_count": 5,
   "metadata": {},
   "outputs": [
    {
     "data": {
      "text/plain": [
       "array([ 0.        , 50.98039216,  0.        ,  0.        ,  0.        ])"
      ]
     },
     "execution_count": 5,
     "metadata": {},
     "output_type": "execute_result"
    }
   ],
   "source": [
    "stfMod_x.x[0:5] # interest rate is high so we want to avoid borrowing from the bank"
   ]
  },
  {
   "cell_type": "code",
   "execution_count": 6,
   "metadata": {},
   "outputs": [
    {
     "data": {
      "text/plain": [
       "array([150.        ,  49.01960784, 203.43436358])"
      ]
     },
     "execution_count": 6,
     "metadata": {},
     "output_type": "execute_result"
    }
   ],
   "source": [
    "stfMod_x.x[5:8] # borrowing a lot from creditors to make up for the high bank rate"
   ]
  },
  {
   "cell_type": "code",
   "execution_count": 7,
   "metadata": {},
   "outputs": [
    {
     "data": {
      "text/plain": [
       "array([  0.        ,   0.        , 351.9441675 ,   0.        ,\n",
       "         0.        ,  92.49694915])"
      ]
     },
     "execution_count": 7,
     "metadata": {},
     "output_type": "execute_result"
    }
   ],
   "source": [
    "stfMod_x.x[8:14]"
   ]
  },
  {
   "cell_type": "code",
   "execution_count": null,
   "metadata": {},
   "outputs": [],
   "source": [
    "# in time period 6 we're left with $92.50\n",
    "# in the problems statement we owe a total of $450 (negative cash flows)\n",
    "# we will receive a total of $550 (positive cash flows)\n",
    "# why aren't we left with $100 at time 6?\n",
    "# we didn't have enough money to pay our early obligations\n",
    "# we had to borrow money to satisfy our obligations and pay interest on it!"
   ]
  }
 ],
 "metadata": {
  "kernelspec": {
   "display_name": "Python 3",
   "language": "python",
   "name": "python3"
  },
  "language_info": {
   "codemirror_mode": {
    "name": "ipython",
    "version": 3
   },
   "file_extension": ".py",
   "mimetype": "text/x-python",
   "name": "python",
   "nbconvert_exporter": "python",
   "pygments_lexer": "ipython3",
   "version": "3.8.8"
  }
 },
 "nbformat": 4,
 "nbformat_minor": 2
}
